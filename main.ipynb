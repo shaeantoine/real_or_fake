{
 "cells": [
  {
   "cell_type": "markdown",
   "id": "8c1e87c6",
   "metadata": {},
   "source": []
  },
  {
   "cell_type": "markdown",
   "id": "7713515a",
   "metadata": {},
   "source": []
  },
  {
   "cell_type": "code",
   "execution_count": null,
   "id": "76690f44",
   "metadata": {},
   "outputs": [],
   "source": [
    "\n",
    "\n"
   ]
  }
 ],
 "metadata": {
  "kernelspec": {
   "display_name": "rof",
   "language": "python",
   "name": "python3"
  },
  "language_info": {
   "name": "python",
   "version": "3.10.0"
  }
 },
 "nbformat": 4,
 "nbformat_minor": 5
}
