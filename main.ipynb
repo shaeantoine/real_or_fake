{
 "cells": [
  {
   "cell_type": "markdown",
   "id": "8c1e87c6",
   "metadata": {},
   "source": []
  },
  {
   "cell_type": "markdown",
   "id": "7713515a",
   "metadata": {},
   "source": []
  },
  {
   "cell_type": "code",
   "execution_count": 11,
   "id": "76690f44",
   "metadata": {},
   "outputs": [],
   "source": [
    "# Import statements\n",
    "import os\n",
    "import pandas as pd"
   ]
  },
  {
   "cell_type": "code",
   "execution_count": null,
   "id": "d6696fb8",
   "metadata": {},
   "outputs": [],
   "source": [
    "# This is taken from the base solution - THIS IS NOT MY WORK \n",
    "\n",
    "def read_texts_from_dir(dir_path):\n",
    "  \"\"\"\n",
    "  Reads the texts from a given directory and saves them in the pd.DataFrame with columns ['id', 'file_1', 'file_2'].\n",
    "\n",
    "  Params:\n",
    "    dir_path (str): path to the directory with data\n",
    "  \"\"\"\n",
    "  # Count number of directories in the provided path\n",
    "  dir_count = sum(os.path.isdir(os.path.join(root, d)) for root, dirs, _ in os.walk(dir_path) for d in dirs)\n",
    "  data=[0 for _ in range(dir_count)]\n",
    "  print(f\"Number of directories: {dir_count}\")\n",
    "\n",
    "  # For each directory, read both file_1.txt and file_2.txt and save results to the list\n",
    "  i=0\n",
    "  for folder_name in sorted(os.listdir(dir_path)):\n",
    "    folder_path = os.path.join(dir_path, folder_name)\n",
    "    if os.path.isdir(folder_path):\n",
    "      try:\n",
    "        with open(os.path.join(folder_path, 'file_1.txt'), 'r', encoding='utf-8') as f1:\n",
    "          text1 = f1.read().strip()\n",
    "        with open(os.path.join(folder_path, 'file_2.txt'), 'r', encoding='utf-8') as f2:\n",
    "          text2 = f2.read().strip()\n",
    "        index = int(folder_name[-4:])\n",
    "        data[i]=(index, text1, text2)\n",
    "        i+=1\n",
    "      except Exception as e:\n",
    "        print(f\"Error reading directory {folder_name}: {e}\")\n",
    "\n",
    "  # Change list with results into pandas DataFrame\n",
    "  df = pd.DataFrame(data, columns=['id', 'file_1', 'file_2']).set_index('id')\n",
    "  return df"
   ]
  },
  {
   "cell_type": "code",
   "execution_count": null,
   "id": "2e7d63d8",
   "metadata": {},
   "outputs": [
    {
     "data": {
      "text/html": [
       "<div>\n",
       "<style scoped>\n",
       "    .dataframe tbody tr th:only-of-type {\n",
       "        vertical-align: middle;\n",
       "    }\n",
       "\n",
       "    .dataframe tbody tr th {\n",
       "        vertical-align: top;\n",
       "    }\n",
       "\n",
       "    .dataframe thead th {\n",
       "        text-align: right;\n",
       "    }\n",
       "</style>\n",
       "<table border=\"1\" class=\"dataframe\">\n",
       "  <thead>\n",
       "    <tr style=\"text-align: right;\">\n",
       "      <th></th>\n",
       "      <th>file_1</th>\n",
       "      <th>file_2</th>\n",
       "    </tr>\n",
       "  </thead>\n",
       "  <tbody>\n",
       "    <tr>\n",
       "      <th>0</th>\n",
       "      <td>The VIRSA (Visible Infrared Survey Telescope A...</td>\n",
       "      <td>The China relay network has released a signifi...</td>\n",
       "    </tr>\n",
       "    <tr>\n",
       "      <th>1</th>\n",
       "      <td>China\\nThe goal of this project involves achie...</td>\n",
       "      <td>The project aims to achieve an accuracy level ...</td>\n",
       "    </tr>\n",
       "    <tr>\n",
       "      <th>2</th>\n",
       "      <td>Scientists can learn about how galaxies form a...</td>\n",
       "      <td>Dinosaur eggshells offer clues about what dino...</td>\n",
       "    </tr>\n",
       "    <tr>\n",
       "      <th>3</th>\n",
       "      <td>China\\nThe study suggests that multiple star s...</td>\n",
       "      <td>The importance for understanding how stars evo...</td>\n",
       "    </tr>\n",
       "    <tr>\n",
       "      <th>4</th>\n",
       "      <td>Dinosaur Rex was excited about his new toy set...</td>\n",
       "      <td>Analyzing how fast stars rotate within a galax...</td>\n",
       "    </tr>\n",
       "  </tbody>\n",
       "</table>\n",
       "</div>"
      ],
      "text/plain": [
       "                                              file_1  \\\n",
       "0  The VIRSA (Visible Infrared Survey Telescope A...   \n",
       "1  China\\nThe goal of this project involves achie...   \n",
       "2  Scientists can learn about how galaxies form a...   \n",
       "3  China\\nThe study suggests that multiple star s...   \n",
       "4  Dinosaur Rex was excited about his new toy set...   \n",
       "\n",
       "                                              file_2  \n",
       "0  The China relay network has released a signifi...  \n",
       "1  The project aims to achieve an accuracy level ...  \n",
       "2  Dinosaur eggshells offer clues about what dino...  \n",
       "3  The importance for understanding how stars evo...  \n",
       "4  Analyzing how fast stars rotate within a galax...  "
      ]
     },
     "execution_count": 29,
     "metadata": {},
     "output_type": "execute_result"
    }
   ],
   "source": [
    "train_dir = \"data/train/\"\n",
    "data = []\n",
    "\n",
    "i = 0 \n",
    "for dirpath, dirnames, filenames in sorted(os.walk(train_dir)): \n",
    "    if i == 0:\n",
    "        i += 1\n",
    "        continue \n",
    "\n",
    "    try:\n",
    "        with open(os.path.join(dirpath, filenames[0]), 'r', encoding='utf-8') as f1:\n",
    "            text1 = f1.read().strip()\n",
    "        with open(os.path.join(dirpath, filenames[1]), 'r', encoding='utf-8') as f2:\n",
    "            text2 = f2.read().strip()\n",
    "        data.append((text1, text2))\n",
    "    except Exception as e:\n",
    "        print(f\"Error reading directory {dirpath}: {e}\")\n",
    "    \n",
    "    i += 1 \n",
    "\n",
    "train_df = pd.DataFrame(data, columns=['file_1', 'file_2'])\n",
    "train_df.head()"
   ]
  },
  {
   "cell_type": "code",
   "execution_count": null,
   "id": "7d282d4f",
   "metadata": {},
   "outputs": [],
   "source": []
  }
 ],
 "metadata": {
  "kernelspec": {
   "display_name": "rof",
   "language": "python",
   "name": "python3"
  },
  "language_info": {
   "codemirror_mode": {
    "name": "ipython",
    "version": 3
   },
   "file_extension": ".py",
   "mimetype": "text/x-python",
   "name": "python",
   "nbconvert_exporter": "python",
   "pygments_lexer": "ipython3",
   "version": "3.10.0"
  }
 },
 "nbformat": 4,
 "nbformat_minor": 5
}
